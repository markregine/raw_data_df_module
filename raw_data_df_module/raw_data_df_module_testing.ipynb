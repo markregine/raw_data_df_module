{
 "cells": [
  {
   "cell_type": "code",
   "execution_count": 1,
   "metadata": {},
   "outputs": [],
   "source": [
    "import pandas as pd\n",
    "import numpy as np"
   ]
  },
  {
   "cell_type": "code",
   "execution_count": 2,
   "metadata": {},
   "outputs": [],
   "source": [
    "class raw_data_df(pd.DataFrame):\n",
    "    \"\"\"\n",
    "\n",
    "    \"\"\"\n",
    "\n",
    "    def __init__(self, df, subset_of_columns_to_keep):\n",
    "        super().__init__(df)  # initialize subclass from DataFrame instance\n",
    "        \n",
    "        self.subset_of_columns_to_keep = subset_of_columns_to_keep\n",
    "        self.raw_columns_not_kept = set(self.columns).difference(set(subset_of_columns_to_keep))\n",
    "        \n",
    "    def strip_white_space_from_dtype_object_columns(self):\n",
    "        column_names = self.select_dtypes([object])\\\n",
    "                        .columns\n",
    "        for i in column_names:\n",
    "            self[i] = self[i].str.strip()\n",
    "        return self"
   ]
  },
  {
   "cell_type": "markdown",
   "metadata": {},
   "source": [
    "## Example of raw_data_df usage"
   ]
  },
  {
   "cell_type": "code",
   "execution_count": 3,
   "metadata": {},
   "outputs": [],
   "source": [
    "df = pd.DataFrame({'first':list('mark'), 'last':list('regi'), 'age':[i for i in range(0,4)]})\n",
    "df.loc[2, 'last'] = np.nan\n",
    "df.loc[0, 'last'] = '               r              '"
   ]
  },
  {
   "cell_type": "code",
   "execution_count": 4,
   "metadata": {},
   "outputs": [
    {
     "name": "stderr",
     "output_type": "stream",
     "text": [
      "C:\\ProgramData\\Anaconda3\\lib\\site-packages\\ipykernel_launcher.py:9: UserWarning: Pandas doesn't allow columns to be created via a new attribute name - see https://pandas.pydata.org/pandas-docs/stable/indexing.html#attribute-access\n",
      "  if __name__ == '__main__':\n",
      "C:\\ProgramData\\Anaconda3\\lib\\site-packages\\ipykernel_launcher.py:10: UserWarning: Pandas doesn't allow columns to be created via a new attribute name - see https://pandas.pydata.org/pandas-docs/stable/indexing.html#attribute-access\n",
      "  # Remove the CWD from sys.path while we load stuff.\n"
     ]
    }
   ],
   "source": [
    "c = raw_data_df(df, subset_of_columns_to_keep=['age'])"
   ]
  },
  {
   "cell_type": "code",
   "execution_count": 5,
   "metadata": {},
   "outputs": [
    {
     "name": "stdout",
     "output_type": "stream",
     "text": [
      "Before:\n",
      "\n",
      "   first  last\n",
      "0      1  30.0\n",
      "1      1   1.0\n",
      "2      1   NaN\n",
      "3      1   1.0\n",
      "-----------------------------------\n",
      "After:\n",
      "\n",
      "   first  last\n",
      "0      1   1.0\n",
      "1      1   1.0\n",
      "2      1   NaN\n",
      "3      1   1.0\n",
      "-----------------------------------\n",
      "Resulting object is a df with all columns:\n",
      "\n",
      "  first last  age\n",
      "0     m    r    0\n",
      "1     a    e    1\n",
      "2     r  NaN    2\n",
      "3     k    i    3\n"
     ]
    }
   ],
   "source": [
    "print(\"Before:\\n\")\n",
    "print(c.select_dtypes([object]).apply(lambda c: c.str.len()))\n",
    "c = c.strip_white_space_from_dtype_object_columns()\n",
    "print(\"-----------------------------------\")\n",
    "print(\"After:\\n\")\n",
    "print(c.select_dtypes([object]).apply(lambda c: c.str.len()))\n",
    "print(\"-----------------------------------\")\n",
    "print(\"Resulting object is a df with all columns:\\n\")\n",
    "print(c)"
   ]
  },
  {
   "cell_type": "code",
   "execution_count": 6,
   "metadata": {},
   "outputs": [
    {
     "data": {
      "text/plain": [
       "['age']"
      ]
     },
     "execution_count": 6,
     "metadata": {},
     "output_type": "execute_result"
    }
   ],
   "source": [
    "c.subset_of_columns_to_keep"
   ]
  },
  {
   "cell_type": "code",
   "execution_count": null,
   "metadata": {},
   "outputs": [],
   "source": []
  }
 ],
 "metadata": {
  "kernelspec": {
   "display_name": "Python 3",
   "language": "python",
   "name": "python3"
  },
  "language_info": {
   "codemirror_mode": {
    "name": "ipython",
    "version": 3
   },
   "file_extension": ".py",
   "mimetype": "text/x-python",
   "name": "python",
   "nbconvert_exporter": "python",
   "pygments_lexer": "ipython3",
   "version": "3.7.1"
  }
 },
 "nbformat": 4,
 "nbformat_minor": 2
}
